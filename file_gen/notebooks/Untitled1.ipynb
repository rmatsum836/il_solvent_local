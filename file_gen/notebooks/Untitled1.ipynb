{
 "cells": [
  {
   "cell_type": "code",
   "execution_count": 1,
   "metadata": {
    "collapsed": false
   },
   "outputs": [
    {
     "name": "stderr",
     "output_type": "stream",
     "text": [
      "/Users/raymatsumoto/anaconda2/envs/hackathon/lib/python3.5/site-packages/pandas/io/parsers.py:1961: FutureWarning: split() requires a non-empty pattern match.\n",
      "  yield pat.split(line.strip())\n",
      "/Users/raymatsumoto/anaconda2/envs/hackathon/lib/python3.5/site-packages/pandas/io/parsers.py:1963: FutureWarning: split() requires a non-empty pattern match.\n",
      "  yield pat.split(line.strip())\n",
      "/Users/raymatsumoto/foyer/foyer/validator.py:156: ValidationWarning: The following atom types do not have smarts definitions: opls_001, opls_002, opls_003, opls_004, opls_005, opls_006, opls_007, opls_008, opls_009, opls_010, opls_011, opls_012, opls_013, opls_014, opls_015, opls_016, opls_017, opls_018, opls_019, opls_020, opls_021, opls_022, opls_023, opls_024, opls_025, opls_026, opls_027, opls_028, opls_029, opls_030, opls_031, opls_032, opls_033, opls_034, opls_035, opls_036, opls_037, opls_038, opls_039, opls_040, opls_041, opls_042, opls_043, opls_044, opls_045, opls_046, opls_047, opls_048, opls_049, opls_050, opls_051, opls_052, opls_053, opls_054, opls_055, opls_056, opls_057, opls_058, opls_059, opls_060, opls_061, opls_062, opls_063, opls_064, opls_065, opls_066, opls_067, opls_068, opls_069, opls_070, opls_071, opls_072, opls_073, opls_074, opls_075, opls_076, opls_077, opls_078, opls_079, opls_080, opls_081, opls_082, opls_083, opls_084, opls_085, opls_086, opls_087, opls_088, opls_089, opls_090, opls_091, opls_092, opls_093, opls_094, opls_095, opls_096, opls_097, opls_098, opls_099, opls_101, opls_102, opls_103, opls_104, opls_105, opls_106, opls_107, opls_108, opls_109, opls_110, opls_111, opls_112, opls_113, opls_114, opls_115, opls_116, opls_117, opls_118, opls_118e, opls_119, opls_120, opls_122, opls_123, opls_124, opls_125, opls_126, opls_127, opls_128, opls_129, opls_130, opls_131, opls_132, opls_145B, opls_147, opls_150, opls_158, opls_159, opls_160, opls_161, opls_162, opls_163, opls_164, opls_165, opls_169, opls_170, opls_171, opls_172, opls_173, opls_174, opls_175, opls_176, opls_178, opls_179, opls_183, opls_184, opls_186, opls_187, opls_188, opls_189, opls_190, opls_191, opls_192, opls_193, opls_194, opls_195, opls_196, opls_197, opls_198, opls_199, opls_200, opls_201, opls_202, opls_203, opls_204, opls_205, opls_206, opls_207, opls_208, opls_209, opls_210, opls_211, opls_212, opls_213, opls_214, opls_215, opls_216, opls_217, opls_218, opls_219, opls_220, opls_221, opls_222, opls_223, opls_223B, opls_224, opls_224B, opls_225, opls_225B, opls_226, opls_227, opls_228, opls_229, opls_230, opls_231, opls_232, opls_233, opls_234, opls_237, opls_238, opls_240, opls_241, opls_242, opls_244, opls_245, opls_246, opls_247, opls_248, opls_249, opls_250, opls_251, opls_252, opls_253, opls_254, opls_255, opls_256, opls_257, opls_258, opls_259, opls_260, opls_261, opls_262, opls_263, opls_264, opls_265, opls_266, opls_271, opls_272, opls_273, opls_274, opls_275, opls_276, opls_283, opls_284, opls_285, opls_286, opls_287, opls_288, opls_289, opls_290, opls_291, opls_292, opls_292B, opls_293, opls_293B, opls_294, opls_295, opls_296, opls_297, opls_298, opls_299, opls_300, opls_301, opls_302, opls_303, opls_304, opls_305, opls_306, opls_307, opls_308, opls_309, opls_310, opls_311, opls_312, opls_313, opls_314, opls_315, opls_316, opls_317, opls_318, opls_319, opls_319B, opls_320, opls_321, opls_322, opls_323, opls_324, opls_325, opls_326, opls_327, opls_328, opls_329, opls_330, opls_331, opls_332, opls_333, opls_333B, opls_334, opls_335, opls_336, opls_337, opls_338, opls_339, opls_340, opls_341, opls_342, opls_343, opls_344, opls_345, opls_346, opls_347, opls_348, opls_349, opls_350, opls_351, opls_352, opls_353, opls_354, opls_354B, opls_355, opls_356, opls_357, opls_358, opls_359, opls_360, opls_361, opls_362, opls_363, opls_364, opls_365, opls_366, opls_367, opls_368, opls_369, opls_370, opls_371, opls_372, opls_373, opls_374, opls_375, opls_376, opls_377, opls_377B, opls_378, opls_379, opls_380, opls_381, opls_382, opls_383, opls_384, opls_385, opls_386, opls_387, opls_388, opls_389, opls_390, opls_391, opls_392, opls_393, opls_394, opls_395, opls_396, opls_400, opls_401, opls_402, opls_403, opls_404, opls_405, opls_406, opls_407, opls_408, opls_409, opls_410, opls_411, opls_412, opls_413, opls_414, opls_415, opls_416, opls_417, opls_418, opls_419, opls_420, opls_421, opls_422, opls_423, opls_424, opls_425, opls_426, opls_427, opls_428, opls_429, opls_430, opls_431, opls_432, opls_433, opls_434, opls_435, opls_436, opls_437, opls_440, opls_441, opls_442, opls_443, opls_444, opls_445, opls_446, opls_447, opls_448, opls_449, opls_450, opls_451, opls_452, opls_453, opls_454, opls_455, opls_456, opls_457, opls_458, opls_459, opls_460, opls_461, opls_462, opls_463, opls_465, opls_466, opls_467, opls_468, opls_469, opls_470, opls_471, opls_472, opls_473, opls_474, opls_475, opls_476, opls_477, opls_478, opls_479, opls_480, opls_481, opls_482, opls_483, opls_484, opls_485, opls_486, opls_487, opls_488, opls_490, opls_491, opls_492, opls_493, opls_494, opls_499, opls_500, opls_501, opls_502, opls_503, opls_504, opls_505, opls_506, opls_507, opls_508, opls_509, opls_510, opls_511, opls_512, opls_513, opls_514, opls_515, opls_516, opls_517, opls_518, opls_520, opls_521, opls_522, opls_523, opls_524, opls_525, opls_526, opls_527, opls_528, opls_529, opls_530, opls_531, opls_532, opls_533, opls_534, opls_535, opls_536, opls_537, opls_538, opls_539, opls_540, opls_541, opls_548, opls_549, opls_550, opls_551, opls_552, opls_553, opls_554, opls_555, opls_556, opls_557, opls_558, opls_559, opls_560, opls_561, opls_562, opls_563, opls_564, opls_565, opls_566, opls_567, opls_568, opls_569, opls_570, opls_571, opls_572, opls_573, opls_574, opls_575, opls_576, opls_577, opls_578, opls_579, opls_580, opls_581, opls_582, opls_583, opls_584, opls_585, opls_586, opls_587, opls_588, opls_589, opls_590, opls_591, opls_592, opls_593, opls_594, opls_595, opls_596, opls_597, opls_598, opls_599, opls_600, opls_601, opls_602, opls_603, opls_604, opls_605, opls_606, opls_607, opls_608, opls_609, opls_610, opls_611, opls_612, opls_613, opls_614, opls_615, opls_616, opls_617, opls_618, opls_619, opls_620, opls_621, opls_622, opls_623, opls_624, opls_625, opls_626, opls_627, opls_628, opls_629, opls_630, opls_631, opls_632, opls_633, opls_634, opls_635, opls_636, opls_637, opls_638, opls_639, opls_640, opls_641, opls_642, opls_643, opls_644, opls_645, opls_646, opls_647, opls_648, opls_649, opls_650, opls_651, opls_652, opls_653, opls_654, opls_655, opls_656, opls_670, opls_671, opls_672, opls_673, opls_674, opls_675, opls_676, opls_677, opls_680, opls_681, opls_697, opls_698, opls_699, opls_700, opls_701, opls_702, opls_703, opls_704, opls_705, opls_706, opls_707, opls_708, opls_709, opls_710, opls_714, opls_715, opls_716, opls_717, opls_720, opls_721, opls_722, opls_724, opls_725, opls_726, opls_727, opls_728, opls_729, opls_730, opls_731, opls_732, opls_733, opls_734, opls_735, opls_736, opls_737, opls_738, opls_739, opls_740, opls_741, opls_742, opls_743, opls_744, opls_745, opls_746, opls_747, opls_748, opls_749, opls_750, opls_751, opls_752, opls_765, opls_766, opls_781, opls_782, opls_783, opls_784, opls_785, opls_786, opls_787, opls_788, opls_795, opls_796, opls_797, opls_901, opls_902, opls_904, opls_905, opls_906B, opls_907, opls_908, opls_910, opls_912, opls_912B, opls_913, opls_914, opls_915, opls_916, opls_917, opls_918, opls_925, opls_926, opls_927, opls_928, opls_929, opls_930, opls_931, opls_940, opls_941, opls_942, opls_943, opls_944, opls_945, opls_950, opls_951, opls_952, opls_953, opls_954, opls_955, opls_956, opls_957, opls_958, opls_959, opls_960, opls_963, opls_964, MNH3, MNH2, MCH3A, MCH3B, MW, HW_tip4pew, OW_tip4pew\n",
      "  ', '.join(missing_smarts)), ValidationWarning)\n"
     ]
    }
   ],
   "source": [
    "import mbuild as mb\n",
    "from foyer import Forcefield\n",
    "from foyer.tests.utils import get_fn\n",
    "import foyer as foyer\n",
    "\n",
    "#load all mol2 files and name them\n",
    "bmim = mb.load('bmim.mol2')\n",
    "bmim.name = 'bmim'\n",
    "tf2n = mb.load('tf2n.mol2')\n",
    "tf2n.name ='tf2n'\n",
    "thf= mb.load('THF.mol2')\n",
    "thf.name = 'thf'\n",
    "\n",
    "#fill box with IL's and solvent \n",
    "system = mb.fill_box(compound=[bmim, tf2n, thf],\n",
    "        n_compounds=[20, 20, 20], box = [7, 7, 7])\n",
    "\n",
    "#forloop to add IL's or solvents to respective compounds\n",
    "il = mb.Compound()\n",
    "solvent = mb.Compound()\n",
    "for child in system.children:\n",
    "    if child.name in ['bmim','tf2n']:\n",
    "        il.add(mb.clone(child))\n",
    "    elif child.name == 'thf':\n",
    "        solvent.add(mb.clone(child))\n",
    "        #print(\"add\")\n",
    "\n",
    "#Set variable to forcefields\n",
    "opls = Forcefield(name='oplsaa')\n",
    "lopes = Forcefield('lopes.xml')\n",
    "#print(foyer.__file__)\n",
    "\n",
    "solventPM = opls.apply(solvent) # apply forcefields to solvent\n",
    "ilPM = lopes.apply(il)  #apply forcefield to IL's\n",
    "\n",
    "systemPM = ilPM + solventPM #Use parmed files to combine forcefields\n",
    "\n",
    "#Save system to .gro and .top files\n",
    "#systemPM.save('IL-thf.gro', overwrite=True)\n",
    "#systemPM.save('IL-thf.top', combine='all', overwrite=True)\n",
    "\n"
   ]
  },
  {
   "cell_type": "code",
   "execution_count": 3,
   "metadata": {
    "collapsed": true
   },
   "outputs": [],
   "source": [
    "systemPM.visualize()"
   ]
  },
  {
   "cell_type": "code",
   "execution_count": null,
   "metadata": {
    "collapsed": true
   },
   "outputs": [],
   "source": []
  }
 ],
 "metadata": {
  "kernelspec": {
   "display_name": "Python 3",
   "language": "python",
   "name": "python3"
  },
  "language_info": {
   "codemirror_mode": {
    "name": "ipython",
    "version": 3
   },
   "file_extension": ".py",
   "mimetype": "text/x-python",
   "name": "python",
   "nbconvert_exporter": "python",
   "pygments_lexer": "ipython3",
   "version": "3.5.2"
  },
  "widgets": {
   "state": {
    "3011af64515e465dbba35853221888cf": {
     "views": [
      {
       "cell_index": 1
      }
     ]
    },
    "b5c22c6ee0a94aa182da2143e051fb95": {
     "views": [
      {
       "cell_index": 1
      }
     ]
    }
   },
   "version": "1.2.0"
  }
 },
 "nbformat": 4,
 "nbformat_minor": 2
}
